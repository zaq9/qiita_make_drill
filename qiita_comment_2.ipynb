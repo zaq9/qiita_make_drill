{
  "nbformat": 4,
  "nbformat_minor": 0,
  "metadata": {
    "colab": {
      "name": "qiita_comment.ipynb",
      "version": "0.3.2",
      "provenance": [],
      "include_colab_link": true
    },
    "kernelspec": {
      "display_name": "Python 2",
      "language": "python",
      "name": "python2"
    }
  },
  "cells": [
    {
      "cell_type": "markdown",
      "metadata": {
        "id": "view-in-github",
        "colab_type": "text"
      },
      "source": [
        "<a href=\"https://colab.research.google.com/github/zaq9/qiita_make_drill/blob/master/qiita_comment_2.ipynb\" target=\"_parent\"><img src=\"https://colab.research.google.com/assets/colab-badge.svg\" alt=\"Open In Colab\"/></a>"
      ]
    },
    {
      "metadata": {
        "collapsed": true,
        "id": "pOxoalGCKI-B",
        "colab_type": "code",
        "colab": {}
      },
      "cell_type": "code",
      "source": [
        "\"\"\"計算練習ドリルを作成\n",
        "    改行処理にバッファー活用＋appendで行ごと書き込むバージョン\n",
        "\"\"\"\n",
        "\n",
        "import random\n",
        "import openpyxl\n",
        "\n",
        "wb = openpyxl.Workbook()  #新規ワークブックを作成\n",
        "sheet = wb.active\n",
        "\n",
        "# 各計算式を一つのListとして取り扱うと理解しやすい\n",
        "list_ = [[a, '+', b, '=', ''] for a in range(1, 10) for b in range(1, 10)]\n",
        "\n",
        "random.shuffle(list_)\n",
        "\n",
        "buf = []    #dataを一時ため込む変数\n",
        "for v in list_:\n",
        "    if len(buf) > 25: #一行に25列以上データがある場合は改行    \n",
        "        sheet.append(buf)\n",
        "        buf=[]\n",
        "    buf.extend(v)     #buf内にデータを一時的に追加保存\n",
        "sheet.append(buf)     #最終行書き込み\n",
        "\n",
        "wb.save('output3.xlsx')"
      ],
      "execution_count": 0,
      "outputs": []
    }
  ]
}